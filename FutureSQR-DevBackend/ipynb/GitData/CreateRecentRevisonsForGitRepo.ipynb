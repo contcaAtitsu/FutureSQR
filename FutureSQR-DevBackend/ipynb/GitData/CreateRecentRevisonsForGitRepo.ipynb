{
 "cells": [
  {
   "cell_type": "markdown",
   "metadata": {},
   "source": [
    "# Create some basic mock data for a Git Repo\n",
    "\n",
    "\n",
    "Solution found here:\n",
    "\n",
    "* https://web.archive.org/web/20180319024551/http://blog.lost-theory.org/post/how-to-parse-git-log-output/\n",
    "\n",
    "Git Format strings are here:\n",
    "\n",
    "* https://git-scm.com/docs/pretty-formats"
   ]
  },
  {
   "cell_type": "code",
   "execution_count": null,
   "metadata": {},
   "outputs": [],
   "source": [
    "import re\n",
    "import json\n",
    "import subprocess"
   ]
  },
  {
   "cell_type": "code",
   "execution_count": null,
   "metadata": {},
   "outputs": [],
   "source": [
    "LOCAL_GIT_REPO = \"D:\\\\Temp\\\\future-square-cache\\\\FuriousIron-Frontend\""
   ]
  },
  {
   "cell_type": "code",
   "execution_count": null,
   "metadata": {},
   "outputs": [],
   "source": [
    "GIT_FIELDS = ['shortrev','revisionid','authorname','authorid','date','message']\n",
    "GIT_FORMAT_PARAMS = ['%h','%H','%an','%ae','%ar','%s']\n",
    "\n",
    "formatdetails = '%x1f'.join(GIT_FORMAT_PARAMS)\n",
    "\n",
    "GIT_LOG_COMMAND = [\n",
    "    'C:\\\\Program Files\\\\Git\\\\cmd\\\\git.exe', \n",
    "    '-C',  LOCAL_GIT_REPO, \n",
    "    'log',  \n",
    "    '--pretty=format:%x1f'+formatdetails+'%x1e'\n",
    "]"
   ]
  },
  {
   "cell_type": "code",
   "execution_count": null,
   "metadata": {},
   "outputs": [],
   "source": [
    "output = subprocess.run(GIT_LOG_COMMAND, stdout=subprocess.PIPE)\n",
    "log = output.stdout.decode()"
   ]
  },
  {
   "cell_type": "code",
   "execution_count": null,
   "metadata": {
    "scrolled": false
   },
   "outputs": [],
   "source": [
    "log = log.strip('\\n\\x1e').split('\\x1e')\n",
    "log = [ row.strip().split('\\x1f') for row in log ]\n",
    "log = [ dict(zip(GIT_FIELDS,row)) for row in log ]\n",
    "\n",
    "recentRevisions = {\n",
    "    'revisions': log\n",
    "}\n",
    "print(json.dumps(recentRevisions, indent=2))"
   ]
  },
  {
   "cell_type": "code",
   "execution_count": null,
   "metadata": {},
   "outputs": [],
   "source": [
    "\n"
   ]
  },
  {
   "cell_type": "code",
   "execution_count": null,
   "metadata": {},
   "outputs": [],
   "source": []
  },
  {
   "cell_type": "code",
   "execution_count": null,
   "metadata": {},
   "outputs": [],
   "source": []
  },
  {
   "cell_type": "code",
   "execution_count": null,
   "metadata": {},
   "outputs": [],
   "source": []
  }
 ],
 "metadata": {
  "kernelspec": {
   "display_name": "Python 3",
   "language": "python",
   "name": "python3"
  },
  "language_info": {
   "codemirror_mode": {
    "name": "ipython",
    "version": 3
   },
   "file_extension": ".py",
   "mimetype": "text/x-python",
   "name": "python",
   "nbconvert_exporter": "python",
   "pygments_lexer": "ipython3",
   "version": "3.6.4"
  },
  "toc": {
   "base_numbering": 1,
   "nav_menu": {},
   "number_sections": true,
   "sideBar": true,
   "skip_h1_title": false,
   "title_cell": "Table of Contents",
   "title_sidebar": "Contents",
   "toc_cell": false,
   "toc_position": {},
   "toc_section_display": true,
   "toc_window_display": false
  }
 },
 "nbformat": 4,
 "nbformat_minor": 2
}
