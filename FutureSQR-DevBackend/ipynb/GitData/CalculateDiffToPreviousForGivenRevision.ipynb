{
 "cells": [
  {
   "cell_type": "markdown",
   "metadata": {},
   "source": [
    "# Caclulate the diff to its previous version when revision id is given"
   ]
  },
  {
   "cell_type": "code",
   "execution_count": null,
   "metadata": {},
   "outputs": [],
   "source": [
    "import re\n",
    "import json\n",
    "import subprocess"
   ]
  },
  {
   "cell_type": "code",
   "execution_count": null,
   "metadata": {},
   "outputs": [],
   "source": [
    "# git log -u -1 5ad3b93f375aad613bc85f323dc3a65f5f88a0df\n"
   ]
  },
  {
   "cell_type": "code",
   "execution_count": null,
   "metadata": {},
   "outputs": [],
   "source": [
    "LOCAL_GIT_REPO = \"D:\\\\Temp\\\\future-square-cache\\\\FuriousIron-Frontend\"\n",
    "REVISION = '5ad3b93f375aad613bc85f323dc3a65f5f88a0df'"
   ]
  },
  {
   "cell_type": "code",
   "execution_count": null,
   "metadata": {},
   "outputs": [],
   "source": [
    "GIT_COMMAND = [\n",
    "    'C:\\\\Program Files\\\\Git\\\\cmd\\\\git.exe', \n",
    "    '-C',  LOCAL_GIT_REPO, \n",
    "    'log',  \n",
    "    '-u',\n",
    "    '-1',\n",
    "    REVISION\n",
    "]\n",
    "\n"
   ]
  },
  {
   "cell_type": "code",
   "execution_count": null,
   "metadata": {},
   "outputs": [],
   "source": [
    "output = subprocess.run(GIT_COMMAND, stdout=subprocess.PIPE)\n",
    "log = output.stdout.decode()"
   ]
  },
  {
   "cell_type": "code",
   "execution_count": null,
   "metadata": {},
   "outputs": [],
   "source": [
    "print(log)\n"
   ]
  },
  {
   "cell_type": "code",
   "execution_count": null,
   "metadata": {},
   "outputs": [],
   "source": [
    "lines = log.split('\\n')\n",
    "\n",
    "print(lines)\n",
    "\n",
    "linecounter = 0;\n",
    "while len(lines)<linecounter:\n",
    "    line:str = lines[linecounter]\n",
    "\n",
    "    if line.startswith('diff --git '):\n",
    "        # found a new file change\n",
    "        # parse single file change\n",
    "        # parse ---\n",
    "        # parse +++\n",
    "        # calculate from filenames, whether add, remove, rename or move\n",
    "\n",
    "        linecounter+=1\n",
    "    else:\n",
    "        linecounter+=1\n",
    "\n",
    "\n",
    "\n",
    "\n",
    "\n",
    "    "
   ]
  },
  {
   "cell_type": "code",
   "execution_count": null,
   "metadata": {},
   "outputs": [],
   "source": []
  },
  {
   "cell_type": "code",
   "execution_count": null,
   "metadata": {},
   "outputs": [],
   "source": []
  },
  {
   "cell_type": "code",
   "execution_count": null,
   "metadata": {},
   "outputs": [],
   "source": []
  },
  {
   "cell_type": "code",
   "execution_count": null,
   "metadata": {},
   "outputs": [],
   "source": []
  },
  {
   "cell_type": "code",
   "execution_count": null,
   "metadata": {},
   "outputs": [],
   "source": []
  }
 ],
 "metadata": {
  "kernelspec": {
   "display_name": "Python 3",
   "language": "python",
   "name": "python3"
  },
  "language_info": {
   "codemirror_mode": {
    "name": "ipython",
    "version": 3
   },
   "file_extension": ".py",
   "mimetype": "text/x-python",
   "name": "python",
   "nbconvert_exporter": "python",
   "pygments_lexer": "ipython3",
   "version": "3.6.4"
  },
  "toc": {
   "base_numbering": 1,
   "nav_menu": {},
   "number_sections": true,
   "sideBar": true,
   "skip_h1_title": false,
   "title_cell": "Table of Contents",
   "title_sidebar": "Contents",
   "toc_cell": false,
   "toc_position": {},
   "toc_section_display": true,
   "toc_window_display": false
  }
 },
 "nbformat": 4,
 "nbformat_minor": 2
}
